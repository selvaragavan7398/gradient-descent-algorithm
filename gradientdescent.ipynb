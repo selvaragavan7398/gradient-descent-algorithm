{
  "nbformat": 4,
  "nbformat_minor": 0,
  "metadata": {
    "colab": {
      "provenance": []
    },
    "kernelspec": {
      "name": "python3",
      "display_name": "Python 3"
    },
    "language_info": {
      "name": "python"
    }
  },
  "cells": [
    {
      "cell_type": "code",
      "execution_count": null,
      "metadata": {
        "id": "3F9MuOASuJP9"
      },
      "outputs": [],
      "source": [
        "import numpy as np\n",
        "import matplotlib.pyplot as plt\n",
        "import sklearn"
      ]
    },
    {
      "cell_type": "code",
      "source": [
        "def y_function(x):\n",
        "  return x**2+1"
      ],
      "metadata": {
        "id": "LyxiUObPuUch"
      },
      "execution_count": null,
      "outputs": []
    },
    {
      "cell_type": "code",
      "source": [
        "y_function(5)"
      ],
      "metadata": {
        "colab": {
          "base_uri": "https://localhost:8080/"
        },
        "id": "DSVFt55z4sfh",
        "outputId": "9f245ea1-6aa0-4c55-8669-e9779db0a8b6"
      },
      "execution_count": null,
      "outputs": [
        {
          "output_type": "execute_result",
          "data": {
            "text/plain": [
              "26"
            ]
          },
          "metadata": {},
          "execution_count": 7
        }
      ]
    },
    {
      "cell_type": "code",
      "source": [
        "x = np.arange(-100,101)\n",
        "y = y_function(x)"
      ],
      "metadata": {
        "id": "I8VhP0fI4uXA"
      },
      "execution_count": null,
      "outputs": []
    },
    {
      "cell_type": "markdown",
      "source": [],
      "metadata": {
        "id": "v6ix1HuKPG_H"
      }
    },
    {
      "cell_type": "code",
      "source": [
        "plt.scatter(x,y)"
      ],
      "metadata": {
        "colab": {
          "base_uri": "https://localhost:8080/",
          "height": 447
        },
        "id": "ZBdc7suy4-iQ",
        "outputId": "e2c4fd1a-37dd-472e-a9ef-823ef13c94ec"
      },
      "execution_count": null,
      "outputs": [
        {
          "output_type": "execute_result",
          "data": {
            "text/plain": [
              "<matplotlib.collections.PathCollection at 0x7bfbb134d120>"
            ]
          },
          "metadata": {},
          "execution_count": 23
        },
        {
          "output_type": "display_data",
          "data": {
            "text/plain": [
              "<Figure size 640x480 with 1 Axes>"
            ],
            "image/png": "[encoded data removed]"
          },
          "metadata": {}
        }
      ]
    },
    {
      "cell_type": "code",
      "source": [
        "def gradientdescent(x, y, learning_rate=0.1, epochs=100):\n",
        "    n = len(x)\n",
        "    m = 0\n",
        "    c = 0\n",
        "    for epoch in range(epochs):\n",
        "        y_pred = m * x + c\n",
        "        loss = (1/n) * sum((y - y_pred) ** 2)\n",
        "        m_new = (-2/n) * sum(x * (y - y_pred))\n",
        "        c_new = (-2/n) * sum(y - y_pred)\n",
        "        m = m - learning_rate * m_new\n",
        "        c = c - learning_rate * c_new\n",
        "        #if epoch % 100 == 0:  # Print loss every 100 epochs\n",
        "        print(f\"Epoch {epoch}: m = {m}, c = {c}, Loss = {loss}\")\n",
        "        print(f\"Final parameters: m = {m}, c = {c}, Final Loss = {loss}\")\n",
        "gradientdescent(x,y)"
      ],
      "metadata": {
        "colab": {
          "base_uri": "https://localhost:8080/"
        },
        "id": "H-B2JJ9P5XXw",
        "outputId": "998f36bb-51be-4ab0-b90a-e55384fb1bfa"
      },
      "execution_count": null,
      "outputs": [
        {
          "output_type": "stream",
          "name": "stdout",
          "text": [
            "Epoch 0: m = 0.0, c = 673.5333333333333, Loss = 20408061.0\n",
            "Final parameters: m = 0.0, c = 673.5333333333333, Final Loss = 20408061.0\n",
            "Epoch 1: m = -2.2008866813052355e-12, c = 1212.3600000000015, Loss = 16325236.639999999\n",
            "Final parameters: m = -2.2008866813052355e-12, c = 1212.3600000000015, Final Loss = 16325236.639999999\n",
            "Epoch 2: m = 1.4742465680511438e-09, c = 1643.4213333333346, Loss = 13712229.049600003\n",
            "Final parameters: m = 1.4742465680511438e-09, c = 1643.4213333333346, Final Loss = 13712229.049600003\n",
            "Epoch 3: m = -9.911954958937062e-07, c = 1988.270400000001, Loss = 12039904.191744002\n",
            "Final parameters: m = -9.911954958937062e-07, c = 1988.270400000001, Final Loss = 12039904.191744002\n",
            "Epoch 4: m = 0.0006664137638623442, c = 2264.1496533333343, Loss = 10969616.28271617\n",
            "Final parameters: m = 0.0006664137638623442, c = 2264.1496533333343, Final Loss = 10969616.28271617\n",
            "Epoch 5: m = -0.44805218723454326, c = 2484.853056000001, Loss = 10284632.022433504\n",
            "Final parameters: m = -0.44805218723454326, c = 2484.853056000001, Final Loss = 10284632.022433504\n",
            "Epoch 6: m = 301.2404205506811, c = 2661.4157781333342, Loss = 9846917.95430091\n",
            "Final parameters: m = 301.2404205506811, c = 2661.4157781333342, Final Loss = 9846917.95430091\n",
            "Epoch 7: m = -202533.97608357458, c = 2802.66595584, Loss = 315076502.1507321\n",
            "Final parameters: m = -202533.97608357458, c = 2802.66595584, Final Loss = 315076502.1507321\n",
            "Epoch 8: m = 136170343.2535233, c = 2915.666098005618, Loss = 138100714662455.22\n",
            "Final parameters: m = 136170343.2535233, c = 2915.666098005618, Final Loss = 138100714662455.22\n",
            "Epoch 9: m = -91551860780.78554, c = 3006.0662117386346, Loss = 6.242595335200982e+19\n",
            "Final parameters: m = -91551860780.78554, c = 3006.0662117386346, Final Loss = 6.242595335200982e+19\n",
            "Epoch 10: m = 61553367731614.81, c = 3078.3862774258237, Loss = 2.8218535481828595e+25\n",
            "Final parameters: m = 61553367731614.81, c = 3078.3862774258237, Final Loss = 2.8218535481828595e+25\n",
            "Epoch 11: m = -4.138438090488903e+16, c = 3136.447968968112, Loss = 1.275568416631478e+31\n",
            "Final parameters: m = -4.138438090488903e+16, c = 3136.447968968112, Final Loss = 1.275568416631478e+31\n",
            "Epoch 12: m = 2.7824098761720398e+19, c = 3177.2041878735845, Loss = 5.765978842365844e+36\n",
            "Final parameters: m = 2.7824098761720398e+19, c = 3177.2041878735845, Final Loss = 5.765978842365844e+36\n",
            "Epoch 13: m = -1.870706906746335e+22, c = 3177.2041878735845, Loss = 2.6064075887366347e+42\n",
            "Final parameters: m = -1.870706906746335e+22, c = 3177.2041878735845, Final Loss = 2.6064075887366347e+42\n",
            "Epoch 14: m = 1.2577386103024518e+25, c = 2139976.8539391174, Loss = 1.1781799247526413e+48\n",
            "Final parameters: m = 1.2577386103024518e+25, c = 2139976.8539391174, Final Loss = 1.1781799247526413e+48\n",
            "Epoch 15: m = -8.45619592326682e+27, c = 5745857435.3852825, Loss = 5.32575158654666e+53\n",
            "Final parameters: m = -8.45619592326682e+27, c = 5745857435.3852825, Final Loss = 5.32575158654666e+53\n",
            "Epoch 16: m = 5.685382392409725e+30, c = 3366641101741.7256, Loss = 2.4074107329200378e+59\n",
            "Final parameters: m = 5.685382392409725e+30, c = 3366641101741.7256, Final Loss = 2.4074107329200378e+59\n",
            "Epoch 17: m = -3.822472095163473e+33, c = -7309941410508855.0, Loss = 1.0882269559133912e+65\n",
            "Final parameters: m = -3.822472095163473e+33, c = -7309941410508855.0, Final Loss = 1.0882269559133912e+65\n",
            "Epoch 18: m = 2.5699754053149085e+36, c = 4.332093200512118e+17, Loss = 4.9191352824954856e+70\n",
            "Final parameters: m = 2.5699754053149085e+36, c = 4.332093200512118e+17, Final Loss = 4.9191352824954856e+70\n",
            "Epoch 19: m = -1.7278801308400577e+39, c = 1.9175730352014597e+21, Loss = 2.223607106587589e+76\n",
            "Final parameters: m = -1.7278801308400577e+39, c = 1.9175730352014597e+21, Final Loss = 2.223607106587589e+76\n",
            "Epoch 20: m = 1.1617114079681322e+42, c = 1.021986324312023e+24, Loss = 1.0051418146724572e+82\n",
            "Final parameters: m = 1.1617114079681322e+42, c = 1.021986324312023e+24, Final Loss = 1.0051418146724572e+82\n",
            "Epoch 21: m = -7.810573032905742e+44, c = 5.528599341848597e+26, Loss = 4.543563764524443e+87\n",
            "Final parameters: m = -7.810573032905742e+44, c = 5.528599341848597e+26, Final Loss = 4.543563764524443e+87\n",
            "Epoch 22: m = 5.25130860245696e+47, c = -4.2325868402271574e+29, Loss = 2.0538367204459305e+93\n",
            "Final parameters: m = 5.25130860245696e+47, c = -4.2325868402271574e+29, Final Loss = 2.0538367204459305e+93\n",
            "Epoch 23: m = -3.5306298170518975e+50, c = 4.090845760282168e+31, Loss = 9.284001486206952e+98\n",
            "Final parameters: m = -3.5306298170518975e+50, c = 4.090845760282168e+31, Final Loss = 9.284001486206952e+98\n",
            "Epoch 24: m = 2.3737601136645597e+53, c = -7.402552712842234e+34, Loss = 4.196666791368826e+104\n",
            "Final parameters: m = 2.3737601136645597e+53, c = -7.402552712842234e+34, Final Loss = 4.196666791368826e+104\n",
            "Epoch 25: m = -1.595958049753806e+56, c = 8.118743523011061e+37, Loss = 1.897028149332343e+110\n",
            "Final parameters: m = -1.595958049753806e+56, c = 8.118743523011061e+37, Final Loss = 1.897028149332343e+110\n",
            "Epoch 26: m = 1.073015795451143e+59, c = 1.692783835932361e+41, Loss = 8.57517639179904e+115\n",
            "Final parameters: m = 1.073015795451143e+59, c = 1.692783835932361e+41, Final Loss = 8.57517639179904e+115\n",
            "Epoch 27: m = -7.214242864749852e+61, c = -5.5113094480722754e+42, Loss = 3.8762550875350843e+121\n",
            "Final parameters: m = -7.214242864749852e+61, c = -5.5113094480722754e+42, Final Loss = 3.8762550875350843e+121\n",
            "Epoch 28: m = 4.850375952733482e+64, c = 4.071294226793032e+46, Loss = 1.752191770423669e+127\n",
            "Final parameters: m = 4.850375952733482e+64, c = 4.071294226793032e+46, Final Loss = 1.752191770423669e+127\n",
            "Epoch 29: m = -3.2610694322211447e+67, c = 2.2744109670841162e+48, Loss = 7.920469450561257e+132\n",
            "Final parameters: m = -3.2610694322211447e+67, c = 2.2744109670841162e+48, Final Loss = 7.920469450561257e+132\n",
            "Epoch 30: m = 2.1925256815966827e+70, c = 9.151501520614182e+51, Loss = 3.5803065267282745e+138\n",
            "Final parameters: m = 2.1925256815966827e+70, c = 9.151501520614182e+51, Final Loss = 3.5803065267282745e+138\n",
            "Epoch 31: m = -1.4741080999268356e+73, c = -5.455986825308586e+54, Loss = 1.6184135177018696e+144\n",
            "Final parameters: m = -1.4741080999268356e+73, c = -5.455986825308586e+54, Final Loss = 1.6184135177018696e+144\n",
            "Epoch 32: m = 9.910920125174753e+75, c = 7.5895248193739e+57, Loss = 7.315748790575344e+149\n",
            "Final parameters: m = 9.910920125174753e+75, c = 7.5895248193739e+57, Final Loss = 7.315748790575344e+149\n",
            "Epoch 33: m = -6.66344196415916e+78, c = -7.769670820728616e+60, Loss = 3.3069533701623292e+155\n",
            "Final parameters: m = -6.66344196415916e+78, c = -7.769670820728616e+60, Final Loss = 3.3069533701623292e+155\n",
            "Epoch 34: m = 4.480054147236344e+81, c = -5.4567638666067716e+63, Loss = 1.494849113260481e+161\n",
            "Final parameters: m = 4.480054147236344e+81, c = -5.4567638666067716e+63, Final Loss = 1.494849113260481e+161\n",
            "Epoch 35: m = -3.012089738325234e+84, c = 2.086957007315234e+66, Loss = 6.757198004597089e+166\n",
            "Final parameters: m = -3.012089738325234e+84, c = 2.086957007315234e+66, Final Loss = 6.757198004597089e+166\n",
            "Epoch 36: m = 2.025128334067332e+87, c = -1.1516378054412566e+69, Loss = 3.0544704792138054e+172\n",
            "Final parameters: m = 2.025128334067332e+87, c = -1.1516378054412566e+69, Final Loss = 3.0544704792138054e+172\n",
            "Epoch 37: m = -1.3615612832712697e+90, c = -8.450188926249681e+71, Loss = 1.3807187390455845e+178\n",
            "Final parameters: m = -1.3615612832712697e+90, c = -8.450188926249681e+71, Final Loss = 1.3807187390455845e+178\n",
            "Epoch 38: m = 9.154230361193842e+92, c = 1.0937070684252895e+75, Loss = 6.241292064614462e+183\n",
            "Final parameters: m = 9.154230361193842e+92, c = 1.0937070684252895e+75, Final Loss = 6.241292064614462e+183\n",
            "Epoch 39: m = -6.154694212842657e+95, c = 1.5841356244919292e+76, Loss = 2.821264428028706e+189\n",
            "Final parameters: m = -6.154694212842657e+95, c = 1.5841356244919292e+76, Final Loss = 2.821264428028706e+189\n",
            "Epoch 40: m = 4.13800607576788e+98, c = 1.5841356244919292e+76, Loss = 1.2753021154044957e+195\n",
            "Final parameters: m = 4.13800607576788e+98, c = 1.5841356244919292e+76, Final Loss = 1.2753021154044957e+195\n",
            "Epoch 41: m = -2.7821194182746063e+101, c = 7.732031332801932e+81, Loss = 5.764775075307603e+200\n",
            "Final parameters: m = -2.7821194182746063e+101, c = 7.732031332801932e+81, Final Loss = 5.764775075307603e+200\n",
            "Epoch 42: m = 1.8705116222199605e+104, c = -1.2667360978051334e+86, Loss = 2.6058634473720125e+206\n",
            "Final parameters: m = 1.8705116222199605e+104, c = -1.2667360978051334e+86, Final Loss = 2.6058634473720125e+206\n",
            "Epoch 43: m = -1.2576073140058858e+107, c = 8.50031880877801e+88, Loss = 1.17793395538285e+212\n",
            "Final parameters: m = -1.2576073140058858e+107, c = 8.50031880877801e+88, Final Loss = 1.17793395538285e+212\n",
            "Epoch 44: m = 8.455313174499573e+109, c = -2.4821562062855668e+91, Loss = 5.3246397260117e+217\n",
            "Final parameters: m = 8.455313174499573e+109, c = -2.4821562062855668e+91, Final Loss = 5.3246397260117e+217\n",
            "Epoch 45: m = -5.684788890988546e+112, c = 9.53929949429943e+93, Loss = 2.4069081362551567e+223\n",
            "Final parameters: m = -5.684788890988546e+112, c = 9.53929949429943e+93, Final Loss = 2.4069081362551567e+223\n",
            "Epoch 46: m = 3.822073064374632e+115, c = 1.742049034254315e+97, Loss = 1.087999766081928e+229\n",
            "Final parameters: m = 3.822073064374632e+115, c = 1.742049034254315e+97, Final Loss = 1.087999766081928e+229\n",
            "Epoch 47: m = -2.5697071236145456e+118, c = -1.1682738610586286e+100, Loss = 4.918108311504095e+234\n",
            "Final parameters: m = -2.5697071236145456e+118, c = -1.1682738610586286e+100, Final Loss = 4.918108311504095e+234\n",
            "Epoch 48: m = 1.7276997561101792e+121, c = -1.6556822008190705e+103, Loss = 2.2231428827222975e+240\n",
            "Final parameters: m = 1.7276997561101792e+121, c = -1.6556822008190705e+103, Final Loss = 2.2231428827222975e+240\n",
            "Epoch 49: m = -1.1615901360247435e+124, c = 7.286125338358207e+105, Loss = 1.0049319705786012e+246\n",
            "Final parameters: m = -1.1615901360247435e+124, c = 7.286125338358207e+105, Final Loss = 1.0049319705786012e+246\n",
            "Epoch 50: m = 7.809757681206357e+126, c = 7.485232657553549e+108, Loss = 4.5426152018369385e+251\n",
            "Final parameters: m = 7.809757681206357e+126, c = 7.485232657553549e+108, Final Loss = 4.5426152018369385e+251\n",
            "Epoch 51: m = -5.2507604143310735e+129, c = 2.9173037872731286e+111, Loss = 2.0534079396517757e+257\n",
            "Final parameters: m = -5.2507604143310735e+129, c = 2.9173037872731286e+111, Final Loss = 2.0534079396517757e+257\n",
            "Epoch 52: m = 3.530261251901927e+132, c = 2.0416280721579326e+114, Loss = 9.282063259331103e+262\n",
            "Final parameters: m = 3.530261251901927e+132, c = 2.0416280721579326e+114, Final Loss = 9.282063259331103e+262\n",
            "Epoch 53: m = -2.3735123150287283e+135, c = 2.33056297336197e+117, Loss = 4.1957906505823195e+268\n",
            "Final parameters: m = -2.3735123150287283e+135, c = 2.33056297336197e+117, Final Loss = 4.1957906505823195e+268\n",
            "Epoch 54: m = 1.595791446470982e+138, c = -1.765418607299069e+120, Loss = 1.8966321055629863e+274\n",
            "Final parameters: m = 1.595791446470982e+138, c = -1.765418607299069e+120, Final Loss = 1.8966321055629863e+274\n",
            "Epoch 55: m = -1.0729037825106573e+141, c = -1.912023529471912e+122, Loss = 8.573386146787493e+279\n",
            "Final parameters: m = -1.0729037825106573e+141, c = -1.912023529471912e+122, Final Loss = 8.573386146787493e+279\n",
            "Epoch 56: m = 7.213489764413318e+143, c = -1.912023529471912e+122, Loss = 3.875445839303108e+285\n",
            "Final parameters: m = 7.213489764413318e+143, c = -1.912023529471912e+122, Final Loss = 3.875445839303108e+285\n",
            "Epoch 57: m = -4.849869618273888e+146, c = 3.3106484690162492e+128, Loss = 1.751825964236956e+291\n",
            "Final parameters: m = -4.849869618273888e+146, c = 3.3106484690162492e+128, Final Loss = 1.751825964236956e+291\n",
            "Epoch 58: m = 3.2607290066861436e+149, c = -2.143756478647982e+131, Loss = 7.918815889132887e+296\n",
            "Final parameters: m = 3.2607290066861436e+149, c = -2.143756478647982e+131, Final Loss = 7.918815889132887e+296\n",
            "Epoch 59: m = -2.1922968021619854e+152, c = -5.228640365710231e+133, Loss = 3.5795590638649495e+302\n",
            "Final parameters: m = -2.1922968021619854e+152, c = -5.228640365710231e+133, Final Loss = 3.5795590638649495e+302\n",
            "Epoch 60: m = 1.473954216653575e+155, c = 2.073101006909065e+137, Loss = inf\n",
            "Final parameters: m = 1.473954216653575e+155, c = 2.073101006909065e+137, Final Loss = inf\n",
            "Epoch 61: m = -9.909885516634204e+157, c = -9.686198561808995e+139, Loss = inf\n",
            "Final parameters: m = -9.909885516634204e+157, c = -9.686198561808995e+139, Final Loss = inf\n",
            "Epoch 62: m = 6.662746362350405e+160, c = -1.252173183762204e+142, Loss = inf\n",
            "Final parameters: m = 6.662746362350405e+160, c = -1.252173183762204e+142, Final Loss = inf\n",
            "Epoch 63: m = -4.479586470953589e+163, c = -2.7844230200326467e+145, Loss = inf\n",
            "Final parameters: m = -4.479586470953589e+163, c = -2.7844230200326467e+145, Final Loss = inf\n",
            "Epoch 64: m = 3.011775303971131e+166, c = -2.6084684890070113e+148, Loss = inf\n",
            "Final parameters: m = 3.011775303971131e+166, c = -2.6084684890070113e+148, Final Loss = inf\n",
            "Epoch 65: m = -2.0249169293699258e+169, c = 4.559919271247013e+150, Loss = inf\n",
            "Final parameters: m = -2.0249169293699258e+169, c = 4.559919271247013e+150, Final Loss = inf\n",
            "Epoch 66: m = 1.36141914884638e+172, c = -7.679915073412271e+153, Loss = inf\n",
            "Final parameters: m = 1.36141914884638e+172, c = -7.679915073412271e+153, Final Loss = inf\n",
            "Epoch 67: m = -9.153274744077168e+174, c = -1.0499549771750643e+157, Loss = inf\n",
            "Final parameters: m = -9.153274744077168e+174, c = -1.0499549771750643e+157, Final Loss = inf\n",
            "Epoch 68: m = 6.154051719601214e+177, c = -1.1089914118422907e+160, Loss = inf\n",
            "Final parameters: m = 6.154051719601214e+177, c = -1.1089914118422907e+160, Final Loss = inf\n",
            "Epoch 69: m = -4.1375741061452166e+180, c = 6.76505268808776e+161, Loss = inf\n",
            "Final parameters: m = -4.1375741061452166e+180, c = 6.76505268808776e+161, Final Loss = inf\n",
            "Epoch 70: m = 2.781828990698302e+183, c = 1.87826975144868e+165, Loss = inf\n",
            "Final parameters: m = 2.781828990698302e+183, c = 1.87826975144868e+165, Final Loss = inf\n",
            "Epoch 71: m = -1.87031635807949e+186, c = -8.392835045371337e+167, Loss = inf\n",
            "Final parameters: m = -1.87031635807949e+186, c = -8.392835045371337e+167, Final Loss = inf\n",
            "Epoch 72: m = 1.2574760314154443e+189, c = -3.160177124994814e+169, Loss = inf\n",
            "Final parameters: m = 1.2574760314154443e+189, c = -3.160177124994814e+169, Final Loss = inf\n",
            "Epoch 73: m = -8.45443051788317e+191, c = 8.189888719625727e+173, Loss = inf\n",
            "Final parameters: m = -8.45443051788317e+191, c = 8.189888719625727e+173, Final Loss = inf\n",
            "Epoch 74: m = 5.684195451523451e+194, c = -4.1851949367975466e+176, Loss = inf\n",
            "Final parameters: m = 5.684195451523451e+194, c = -4.1851949367975466e+176, Final Loss = inf\n",
            "Epoch 75: m = -3.821674075240935e+197, c = 4.8678828361871546e+179, Loss = inf\n",
            "Final parameters: m = -3.821674075240935e+197, c = 4.8678828361871546e+179, Final Loss = inf\n",
            "Epoch 76: m = 2.569438869920322e+200, c = 9.350199896595804e+181, Loss = inf\n",
            "Final parameters: m = 2.569438869920322e+200, c = 9.350199896595804e+181, Final Loss = inf\n",
            "Epoch 77: m = -1.727519400209762e+203, c = 1.3863543034618844e+185, Loss = inf\n",
            "Final parameters: m = -1.727519400209762e+203, c = 1.3863543034618844e+185, Final Loss = inf\n",
            "Epoch 78: m = 1.1614688767410302e+206, c = -4.4194781640765e+187, Loss = inf\n",
            "Final parameters: m = 1.1614688767410302e+206, c = -4.4194781640765e+187, Final Loss = inf\n",
            "Epoch 79: m = -7.808942414622197e+208, c = -2.2742904322049698e+190, Loss = inf\n",
            "Final parameters: m = -7.808942414622197e+208, c = -2.2742904322049698e+190, Final Loss = inf\n",
            "Epoch 80: m = 5.25021228343099e+211, c = -2.0224100645791716e+194, Loss = inf\n",
            "Final parameters: m = 5.25021228343099e+211, c = -2.0224100645791716e+194, Final Loss = inf\n",
            "Epoch 81: m = -3.529892725226769e+214, c = 5.748089507303042e+195, Loss = inf\n",
            "Final parameters: m = -3.529892725226769e+214, c = 5.748089507303042e+195, Final Loss = inf\n",
            "Epoch 82: m = 2.3732645422608007e+217, c = 1.7066535738562724e+199, Loss = inf\n",
            "Final parameters: m = 2.3732645422608007e+217, c = 1.7066535738562724e+199, Final Loss = inf\n",
            "Epoch 83: m = -1.5956248605800124e+220, c = -3.726557725539884e+201, Loss = inf\n",
            "Final parameters: m = -1.5956248605800124e+220, c = -3.726557725539884e+201, Final Loss = inf\n",
            "Epoch 84: m = 1.0727917812632952e+223, c = -3.837197801274669e+204, Loss = inf\n",
            "Final parameters: m = 1.0727917812632952e+223, c = -3.837197801274669e+204, Final Loss = inf\n",
            "Epoch 85: m = -7.212736742693549e+225, c = -1.639451595048903e+207, Loss = inf\n",
            "Final parameters: m = -7.212736742693549e+225, c = -1.639451595048903e+207, Final Loss = inf\n",
            "Epoch 86: m = 4.8493633366709644e+228, c = -8.390740229858347e+209, Loss = inf\n",
            "Final parameters: m = 4.8493633366709644e+228, c = -8.390740229858347e+209, Final Loss = inf\n",
            "Epoch 87: m = -3.2603886166884436e+231, c = -1.9731649765625644e+213, Loss = inf\n",
            "Final parameters: m = -3.2603886166884436e+231, c = -1.9731649765625644e+213, Final Loss = inf\n",
            "Epoch 88: m = 2.192067946620197e+234, c = 2.325028386819699e+216, Loss = inf\n",
            "Final parameters: m = 2.192067946620197e+234, c = 2.325028386819699e+216, Final Loss = inf\n",
            "Epoch 89: m = -1.4738003494443126e+237, c = -3.573503812795005e+218, Loss = inf\n",
            "Final parameters: m = -1.4738003494443126e+237, c = -3.573503812795005e+218, Final Loss = inf\n",
            "Epoch 90: m = 9.908851016097268e+239, c = 1.1506039605509453e+222, Loss = inf\n",
            "Final parameters: m = 9.908851016097268e+239, c = 1.1506039605509453e+222, Final Loss = inf\n",
            "Epoch 91: m = -6.662050833156067e+242, c = -8.002867760677759e+224, Loss = inf\n",
            "Final parameters: m = -6.662050833156067e+242, c = -8.002867760677759e+224, Final Loss = inf\n",
            "Epoch 92: m = 4.479118843491929e+245, c = -2.4937694927509144e+226, Loss = inf\n",
            "Final parameters: m = 4.479118843491929e+245, c = -2.4937694927509144e+226, Final Loss = inf\n",
            "Epoch 93: m = -3.0114609024410733e+248, c = -3.7099996615541454e+229, Loss = inf\n",
            "Final parameters: m = -3.0114609024410733e+248, c = -3.7099996615541454e+229, Final Loss = inf\n",
            "Epoch 94: m = 2.0247055467412158e+251, c = -1.2658663444564447e+233, Loss = inf\n",
            "Final parameters: m = 2.0247055467412158e+251, c = -1.2658663444564447e+233, Final Loss = inf\n",
            "Epoch 95: m = -1.361277029259011e+254, c = 3.227009418450576e+235, Loss = inf\n",
            "Final parameters: m = -1.361277029259011e+254, c = 3.227009418450576e+235, Final Loss = inf\n",
            "Epoch 96: m = 9.152319226718091e+256, c = -5.968129199130673e+238, Loss = inf\n",
            "Final parameters: m = 9.152319226718091e+256, c = -5.968129199130673e+238, Final Loss = inf\n",
            "Epoch 97: m = -6.153409293430128e+259, c = 5.59914489855898e+241, Loss = inf\n",
            "Final parameters: m = -6.153409293430128e+259, c = 5.59914489855898e+241, Final Loss = inf\n",
            "Epoch 98: m = 4.1371421816161944e+262, c = -4.292217445275247e+243, Loss = inf\n",
            "Final parameters: m = 4.1371421816161944e+262, c = -4.292217445275247e+243, Final Loss = inf\n",
            "Epoch 99: m = -2.781538593439955e+265, c = 7.11981323491168e+246, Loss = inf\n",
            "Final parameters: m = -2.781538593439955e+265, c = 7.11981323491168e+246, Final Loss = inf\n"
          ]
        },
        {
          "output_type": "stream",
          "name": "stderr",
          "text": [
            "<ipython-input-54-a4fa1be8c765>:7: RuntimeWarning: overflow encountered in square\n",
            "  loss = (1/n) * sum((y - y_pred) ** 2)\n"
          ]
        }
      ]
    },
    {
      "cell_type": "code",
      "source": [
        "#plotiing at instance of m and c = 0\n",
        "def plotdescent(m,c):\n",
        " x  = [i for i in range(1000)]\n",
        " y_pre = [m * x + c for x in range(1000)]\n",
        " plt.scatter(x,y_pre)"
      ],
      "metadata": {
        "id": "6DOOS3vz9YPu"
      },
      "execution_count": null,
      "outputs": []
    },
    {
      "cell_type": "code",
      "source": [
        "plotdescent(0,0) # m = c =0"
      ],
      "metadata": {
        "colab": {
          "base_uri": "https://localhost:8080/",
          "height": 430
        },
        "id": "QsGhgOZY9nWd",
        "outputId": "8c1fa92f-646c-41c5-8258-799ec2179932"
      },
      "execution_count": null,
      "outputs": [
        {
          "output_type": "display_data",
          "data": {
            "text/plain": [
              "<Figure size 640x480 with 1 Axes>"
            ],
            "image/png": "[encoded data removed]"
          },
          "metadata": {}
        }
      ]
    },
    {
      "cell_type": "code",
      "source": [
        "# from our gradient model we have a optimal parameters now so here we conclude thus here we go:\n",
        "plotdescent(-2.7,7.1)\n",
        "import random"
      ],
      "metadata": {
        "colab": {
          "base_uri": "https://localhost:8080/",
          "height": 430
        },
        "id": "0HFp7Eyr-SoM",
        "outputId": "c1ecccd8-844d-4f46-9ddd-8fa32ade6722"
      },
      "execution_count": 58,
      "outputs": [
        {
          "output_type": "display_data",
          "data": {
            "text/plain": [
              "<Figure size 640x480 with 1 Axes>"
            ],
            "image/png": "[encoded data removed]"
          },
          "metadata": {}
        }
      ]
    },
    {
      "cell_type": "code",
      "source": [],
      "metadata": {
        "id": "e74ubTFFFr7r"
      },
      "execution_count": 60,
      "outputs": []
    },
    {
      "cell_type": "code",
      "source": [],
      "metadata": {
        "id": "H13RJRo2OzDH"
      },
      "execution_count": null,
      "outputs": []
    }
  ]
}